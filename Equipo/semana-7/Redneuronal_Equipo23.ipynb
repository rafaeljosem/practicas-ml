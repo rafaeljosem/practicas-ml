{
  "cells": [
    {
      "cell_type": "markdown",
      "metadata": {
        "id": "VFj0sSM06dYa"
      },
      "source": [
        "#**Maestría en Inteligencia Artificial Aplicada**\n",
        "##**Curso: Inteligencia Artificial y Aprendizaje Automático**\n",
        "###Tecnológico de Monterrey\n",
        "###Prof Luis Eduardo Falcón Morales\n",
        "\n",
        "## **Actividad de la Semana 7**\n",
        "###**Red Neuronal Artificial - Perceptrón Multicapa : Multilayer Perceptrón (MLP)**\n"
      ]
    },
    {
      "cell_type": "markdown",
      "metadata": {
        "id": "Qgrvy0RGB9XI"
      },
      "source": [
        "**Nombres y matrículas de los integrantes del equipo:**\n",
        "\n",
        "*   Mateo Comprés, Rafael José. A01793054\n",
        "*   García Hernández, Enrique Ricardo. A01315428\n",
        "*   Chavarría Barrientos, Daniel. A01331204\n",
        "*   García Sabag, Omar Nayib. A01793008"
      ]
    },
    {
      "cell_type": "markdown",
      "metadata": {
        "id": "FrJ2ahMODVj1"
      },
      "source": [
        "En cada sección deberás incluir todas las líneas de código necesarias para responder a cada uno de los ejercicios."
      ]
    },
    {
      "cell_type": "code",
      "execution_count": 1120,
      "metadata": {
        "id": "exXsscs-Dh-2"
      },
      "outputs": [],
      "source": [
        "# Incluye aquí todos módulos, librerías y paquetes que requieras.\n",
        "from sklearn.model_selection import RepeatedKFold, train_test_split, cross_validate\n",
        "from sklearn.dummy import DummyRegressor\n",
        "from sklearn.linear_model import LinearRegression\n",
        "from sklearn.ensemble import RandomForestRegressor\n",
        "from sklearn.neural_network import MLPRegressor\n",
        "from sklearn.metrics import make_scorer\n",
        "from sklearn.pipeline import Pipeline\n",
        "from sklearn.compose import ColumnTransformer\n",
        "from sklearn.impute import SimpleImputer\n",
        "import numpy as np\n",
        "import pandas as pd\n",
        "import matplotlib.pyplot as plt\n",
        "from sklearn.preprocessing import OneHotEncoder, StandardScaler\n",
        "from sklearn.model_selection import GridSearchCV\n",
        "from sklearn.neural_network import MLPClassifier\n",
        "from sklearn.inspection import permutation_importance\n",
        "from sklearn.preprocessing import power_transform\n",
        "import seaborn as sns\n",
        "from sklearn.compose import TransformedTargetRegressor\n",
        "import warnings"
      ]
    },
    {
      "cell_type": "markdown",
      "metadata": {
        "id": "X25brD-gQdZM"
      },
      "source": [
        "#**Ejercicio-1.** \n",
        "\n",
        "Importamos los datos que estaremos analizando"
      ]
    },
    {
      "cell_type": "code",
      "execution_count": 1121,
      "metadata": {
        "colab": {
          "base_uri": "https://localhost:8080/",
          "height": 421
        },
        "id": "mTsNq98rjwJc",
        "outputId": "90e515ad-bf17-4700-8bd1-5681a3e7c5be"
      },
      "outputs": [
        {
          "data": {
            "text/html": [
              "<div>\n",
              "<style scoped>\n",
              "    .dataframe tbody tr th:only-of-type {\n",
              "        vertical-align: middle;\n",
              "    }\n",
              "\n",
              "    .dataframe tbody tr th {\n",
              "        vertical-align: top;\n",
              "    }\n",
              "\n",
              "    .dataframe thead th {\n",
              "        text-align: right;\n",
              "    }\n",
              "</style>\n",
              "<table border=\"1\" class=\"dataframe\">\n",
              "  <thead>\n",
              "    <tr style=\"text-align: right;\">\n",
              "      <th></th>\n",
              "      <th>Page total likes</th>\n",
              "      <th>Type</th>\n",
              "      <th>Category</th>\n",
              "      <th>Post Month</th>\n",
              "      <th>Post Weekday</th>\n",
              "      <th>Post Hour</th>\n",
              "      <th>Paid</th>\n",
              "      <th>Lifetime Post Total Reach</th>\n",
              "      <th>Lifetime Post Total Impressions</th>\n",
              "      <th>Lifetime Engaged Users</th>\n",
              "      <th>Lifetime Post Consumers</th>\n",
              "      <th>Lifetime Post Consumptions</th>\n",
              "      <th>Lifetime Post Impressions by people who have liked your Page</th>\n",
              "      <th>Lifetime Post reach by people who like your Page</th>\n",
              "      <th>Lifetime People who have liked your Page and engaged with your post</th>\n",
              "      <th>comment</th>\n",
              "      <th>like</th>\n",
              "      <th>share</th>\n",
              "      <th>Total Interactions</th>\n",
              "    </tr>\n",
              "  </thead>\n",
              "  <tbody>\n",
              "    <tr>\n",
              "      <th>0</th>\n",
              "      <td>139441</td>\n",
              "      <td>Photo</td>\n",
              "      <td>2</td>\n",
              "      <td>12</td>\n",
              "      <td>4</td>\n",
              "      <td>3</td>\n",
              "      <td>0.0</td>\n",
              "      <td>2752</td>\n",
              "      <td>5091</td>\n",
              "      <td>178</td>\n",
              "      <td>109</td>\n",
              "      <td>159</td>\n",
              "      <td>3078</td>\n",
              "      <td>1640</td>\n",
              "      <td>119</td>\n",
              "      <td>4</td>\n",
              "      <td>79.0</td>\n",
              "      <td>17.0</td>\n",
              "      <td>100</td>\n",
              "    </tr>\n",
              "    <tr>\n",
              "      <th>1</th>\n",
              "      <td>139441</td>\n",
              "      <td>Status</td>\n",
              "      <td>2</td>\n",
              "      <td>12</td>\n",
              "      <td>3</td>\n",
              "      <td>10</td>\n",
              "      <td>0.0</td>\n",
              "      <td>10460</td>\n",
              "      <td>19057</td>\n",
              "      <td>1457</td>\n",
              "      <td>1361</td>\n",
              "      <td>1674</td>\n",
              "      <td>11710</td>\n",
              "      <td>6112</td>\n",
              "      <td>1108</td>\n",
              "      <td>5</td>\n",
              "      <td>130.0</td>\n",
              "      <td>29.0</td>\n",
              "      <td>164</td>\n",
              "    </tr>\n",
              "    <tr>\n",
              "      <th>2</th>\n",
              "      <td>139441</td>\n",
              "      <td>Photo</td>\n",
              "      <td>3</td>\n",
              "      <td>12</td>\n",
              "      <td>3</td>\n",
              "      <td>3</td>\n",
              "      <td>0.0</td>\n",
              "      <td>2413</td>\n",
              "      <td>4373</td>\n",
              "      <td>177</td>\n",
              "      <td>113</td>\n",
              "      <td>154</td>\n",
              "      <td>2812</td>\n",
              "      <td>1503</td>\n",
              "      <td>132</td>\n",
              "      <td>0</td>\n",
              "      <td>66.0</td>\n",
              "      <td>14.0</td>\n",
              "      <td>80</td>\n",
              "    </tr>\n",
              "    <tr>\n",
              "      <th>3</th>\n",
              "      <td>139441</td>\n",
              "      <td>Photo</td>\n",
              "      <td>2</td>\n",
              "      <td>12</td>\n",
              "      <td>2</td>\n",
              "      <td>10</td>\n",
              "      <td>1.0</td>\n",
              "      <td>50128</td>\n",
              "      <td>87991</td>\n",
              "      <td>2211</td>\n",
              "      <td>790</td>\n",
              "      <td>1119</td>\n",
              "      <td>61027</td>\n",
              "      <td>32048</td>\n",
              "      <td>1386</td>\n",
              "      <td>58</td>\n",
              "      <td>1572.0</td>\n",
              "      <td>147.0</td>\n",
              "      <td>1777</td>\n",
              "    </tr>\n",
              "    <tr>\n",
              "      <th>4</th>\n",
              "      <td>139441</td>\n",
              "      <td>Photo</td>\n",
              "      <td>2</td>\n",
              "      <td>12</td>\n",
              "      <td>2</td>\n",
              "      <td>3</td>\n",
              "      <td>0.0</td>\n",
              "      <td>7244</td>\n",
              "      <td>13594</td>\n",
              "      <td>671</td>\n",
              "      <td>410</td>\n",
              "      <td>580</td>\n",
              "      <td>6228</td>\n",
              "      <td>3200</td>\n",
              "      <td>396</td>\n",
              "      <td>19</td>\n",
              "      <td>325.0</td>\n",
              "      <td>49.0</td>\n",
              "      <td>393</td>\n",
              "    </tr>\n",
              "  </tbody>\n",
              "</table>\n",
              "</div>"
            ],
            "text/plain": [
              "   Page total likes    Type  Category  Post Month  Post Weekday  Post Hour  \\\n",
              "0            139441   Photo         2          12             4          3   \n",
              "1            139441  Status         2          12             3         10   \n",
              "2            139441   Photo         3          12             3          3   \n",
              "3            139441   Photo         2          12             2         10   \n",
              "4            139441   Photo         2          12             2          3   \n",
              "\n",
              "   Paid  Lifetime Post Total Reach  Lifetime Post Total Impressions  \\\n",
              "0   0.0                       2752                             5091   \n",
              "1   0.0                      10460                            19057   \n",
              "2   0.0                       2413                             4373   \n",
              "3   1.0                      50128                            87991   \n",
              "4   0.0                       7244                            13594   \n",
              "\n",
              "   Lifetime Engaged Users  Lifetime Post Consumers  \\\n",
              "0                     178                      109   \n",
              "1                    1457                     1361   \n",
              "2                     177                      113   \n",
              "3                    2211                      790   \n",
              "4                     671                      410   \n",
              "\n",
              "   Lifetime Post Consumptions  \\\n",
              "0                         159   \n",
              "1                        1674   \n",
              "2                         154   \n",
              "3                        1119   \n",
              "4                         580   \n",
              "\n",
              "   Lifetime Post Impressions by people who have liked your Page  \\\n",
              "0                                               3078              \n",
              "1                                              11710              \n",
              "2                                               2812              \n",
              "3                                              61027              \n",
              "4                                               6228              \n",
              "\n",
              "   Lifetime Post reach by people who like your Page  \\\n",
              "0                                              1640   \n",
              "1                                              6112   \n",
              "2                                              1503   \n",
              "3                                             32048   \n",
              "4                                              3200   \n",
              "\n",
              "   Lifetime People who have liked your Page and engaged with your post  \\\n",
              "0                                                119                     \n",
              "1                                               1108                     \n",
              "2                                                132                     \n",
              "3                                               1386                     \n",
              "4                                                396                     \n",
              "\n",
              "   comment    like  share  Total Interactions  \n",
              "0        4    79.0   17.0                 100  \n",
              "1        5   130.0   29.0                 164  \n",
              "2        0    66.0   14.0                  80  \n",
              "3       58  1572.0  147.0                1777  \n",
              "4       19   325.0   49.0                 393  "
            ]
          },
          "execution_count": 1121,
          "metadata": {},
          "output_type": "execute_result"
        }
      ],
      "source": [
        "#Actualizar con la ruta donde se está almacenando el archivo\n",
        "df_original = pd.read_csv('dataset_Facebook.csv', sep = ';')\n",
        "df = df_original.copy() #Hacemos una copia de los datos originales antes de manipularlos\n",
        "df.head()"
      ]
    },
    {
      "cell_type": "markdown",
      "metadata": {},
      "source": [
        "Elegimos las columnas que estaremos utilizando para el ejercicio"
      ]
    },
    {
      "cell_type": "code",
      "execution_count": 1122,
      "metadata": {
        "colab": {
          "base_uri": "https://localhost:8080/",
          "height": 204
        },
        "id": "iYS4TZbInE_K",
        "outputId": "6b2e5756-417c-48bf-a6e3-f20cc1c1f4d4"
      },
      "outputs": [
        {
          "data": {
            "text/html": [
              "<div>\n",
              "<style scoped>\n",
              "    .dataframe tbody tr th:only-of-type {\n",
              "        vertical-align: middle;\n",
              "    }\n",
              "\n",
              "    .dataframe tbody tr th {\n",
              "        vertical-align: top;\n",
              "    }\n",
              "\n",
              "    .dataframe thead th {\n",
              "        text-align: right;\n",
              "    }\n",
              "</style>\n",
              "<table border=\"1\" class=\"dataframe\">\n",
              "  <thead>\n",
              "    <tr style=\"text-align: right;\">\n",
              "      <th></th>\n",
              "      <th>Category</th>\n",
              "      <th>Page total likes</th>\n",
              "      <th>Type</th>\n",
              "      <th>Post Month</th>\n",
              "      <th>Post Hour</th>\n",
              "      <th>Post Weekday</th>\n",
              "      <th>Paid</th>\n",
              "      <th>Lifetime People who have liked your Page and engaged with your post</th>\n",
              "    </tr>\n",
              "  </thead>\n",
              "  <tbody>\n",
              "    <tr>\n",
              "      <th>0</th>\n",
              "      <td>2</td>\n",
              "      <td>139441</td>\n",
              "      <td>Photo</td>\n",
              "      <td>12</td>\n",
              "      <td>3</td>\n",
              "      <td>4</td>\n",
              "      <td>0.0</td>\n",
              "      <td>119</td>\n",
              "    </tr>\n",
              "    <tr>\n",
              "      <th>1</th>\n",
              "      <td>2</td>\n",
              "      <td>139441</td>\n",
              "      <td>Status</td>\n",
              "      <td>12</td>\n",
              "      <td>10</td>\n",
              "      <td>3</td>\n",
              "      <td>0.0</td>\n",
              "      <td>1108</td>\n",
              "    </tr>\n",
              "    <tr>\n",
              "      <th>2</th>\n",
              "      <td>3</td>\n",
              "      <td>139441</td>\n",
              "      <td>Photo</td>\n",
              "      <td>12</td>\n",
              "      <td>3</td>\n",
              "      <td>3</td>\n",
              "      <td>0.0</td>\n",
              "      <td>132</td>\n",
              "    </tr>\n",
              "    <tr>\n",
              "      <th>3</th>\n",
              "      <td>2</td>\n",
              "      <td>139441</td>\n",
              "      <td>Photo</td>\n",
              "      <td>12</td>\n",
              "      <td>10</td>\n",
              "      <td>2</td>\n",
              "      <td>1.0</td>\n",
              "      <td>1386</td>\n",
              "    </tr>\n",
              "    <tr>\n",
              "      <th>4</th>\n",
              "      <td>2</td>\n",
              "      <td>139441</td>\n",
              "      <td>Photo</td>\n",
              "      <td>12</td>\n",
              "      <td>3</td>\n",
              "      <td>2</td>\n",
              "      <td>0.0</td>\n",
              "      <td>396</td>\n",
              "    </tr>\n",
              "  </tbody>\n",
              "</table>\n",
              "</div>"
            ],
            "text/plain": [
              "   Category  Page total likes    Type  Post Month  Post Hour  Post Weekday  \\\n",
              "0         2            139441   Photo          12          3             4   \n",
              "1         2            139441  Status          12         10             3   \n",
              "2         3            139441   Photo          12          3             3   \n",
              "3         2            139441   Photo          12         10             2   \n",
              "4         2            139441   Photo          12          3             2   \n",
              "\n",
              "   Paid  Lifetime People who have liked your Page and engaged with your post  \n",
              "0   0.0                                                119                    \n",
              "1   0.0                                               1108                    \n",
              "2   0.0                                                132                    \n",
              "3   1.0                                               1386                    \n",
              "4   0.0                                                396                    "
            ]
          },
          "execution_count": 1122,
          "metadata": {},
          "output_type": "execute_result"
        }
      ],
      "source": [
        "df=df[['Category', 'Page total likes','Type','Post Month','Post Hour','Post Weekday','Paid','Lifetime People who have liked your Page and engaged with your post']]\n",
        "df.head(5)"
      ]
    },
    {
      "cell_type": "markdown",
      "metadata": {},
      "source": [
        "Procedemos a renombrar la variable de respuesta para facilitar la lectura"
      ]
    },
    {
      "cell_type": "code",
      "execution_count": 1123,
      "metadata": {
        "colab": {
          "base_uri": "https://localhost:8080/",
          "height": 204
        },
        "id": "kLr03yKBp2Vp",
        "outputId": "49c96db2-0c05-4a0a-bbf2-255d961b3d9a"
      },
      "outputs": [
        {
          "data": {
            "text/html": [
              "<div>\n",
              "<style scoped>\n",
              "    .dataframe tbody tr th:only-of-type {\n",
              "        vertical-align: middle;\n",
              "    }\n",
              "\n",
              "    .dataframe tbody tr th {\n",
              "        vertical-align: top;\n",
              "    }\n",
              "\n",
              "    .dataframe thead th {\n",
              "        text-align: right;\n",
              "    }\n",
              "</style>\n",
              "<table border=\"1\" class=\"dataframe\">\n",
              "  <thead>\n",
              "    <tr style=\"text-align: right;\">\n",
              "      <th></th>\n",
              "      <th>Category</th>\n",
              "      <th>Page total likes</th>\n",
              "      <th>Type</th>\n",
              "      <th>Post Month</th>\n",
              "      <th>Post Hour</th>\n",
              "      <th>Post Weekday</th>\n",
              "      <th>Paid</th>\n",
              "      <th>LPE</th>\n",
              "    </tr>\n",
              "  </thead>\n",
              "  <tbody>\n",
              "    <tr>\n",
              "      <th>0</th>\n",
              "      <td>2</td>\n",
              "      <td>139441</td>\n",
              "      <td>Photo</td>\n",
              "      <td>12</td>\n",
              "      <td>3</td>\n",
              "      <td>4</td>\n",
              "      <td>0.0</td>\n",
              "      <td>119</td>\n",
              "    </tr>\n",
              "    <tr>\n",
              "      <th>1</th>\n",
              "      <td>2</td>\n",
              "      <td>139441</td>\n",
              "      <td>Status</td>\n",
              "      <td>12</td>\n",
              "      <td>10</td>\n",
              "      <td>3</td>\n",
              "      <td>0.0</td>\n",
              "      <td>1108</td>\n",
              "    </tr>\n",
              "    <tr>\n",
              "      <th>2</th>\n",
              "      <td>3</td>\n",
              "      <td>139441</td>\n",
              "      <td>Photo</td>\n",
              "      <td>12</td>\n",
              "      <td>3</td>\n",
              "      <td>3</td>\n",
              "      <td>0.0</td>\n",
              "      <td>132</td>\n",
              "    </tr>\n",
              "    <tr>\n",
              "      <th>3</th>\n",
              "      <td>2</td>\n",
              "      <td>139441</td>\n",
              "      <td>Photo</td>\n",
              "      <td>12</td>\n",
              "      <td>10</td>\n",
              "      <td>2</td>\n",
              "      <td>1.0</td>\n",
              "      <td>1386</td>\n",
              "    </tr>\n",
              "    <tr>\n",
              "      <th>4</th>\n",
              "      <td>2</td>\n",
              "      <td>139441</td>\n",
              "      <td>Photo</td>\n",
              "      <td>12</td>\n",
              "      <td>3</td>\n",
              "      <td>2</td>\n",
              "      <td>0.0</td>\n",
              "      <td>396</td>\n",
              "    </tr>\n",
              "  </tbody>\n",
              "</table>\n",
              "</div>"
            ],
            "text/plain": [
              "   Category  Page total likes    Type  Post Month  Post Hour  Post Weekday  \\\n",
              "0         2            139441   Photo          12          3             4   \n",
              "1         2            139441  Status          12         10             3   \n",
              "2         3            139441   Photo          12          3             3   \n",
              "3         2            139441   Photo          12         10             2   \n",
              "4         2            139441   Photo          12          3             2   \n",
              "\n",
              "   Paid   LPE  \n",
              "0   0.0   119  \n",
              "1   0.0  1108  \n",
              "2   0.0   132  \n",
              "3   1.0  1386  \n",
              "4   0.0   396  "
            ]
          },
          "execution_count": 1123,
          "metadata": {},
          "output_type": "execute_result"
        }
      ],
      "source": [
        "#Renombrar variables\n",
        "df.rename(columns={'Lifetime People who have liked your Page and engaged with your post':'LPE'},\n",
        "               inplace=True)\n",
        "df.head(5)"
      ]
    },
    {
      "cell_type": "code",
      "execution_count": 1124,
      "metadata": {
        "colab": {
          "base_uri": "https://localhost:8080/"
        },
        "id": "PZTn1_uYsRme",
        "outputId": "44039a59-8c19-43f0-e5dd-190ca131a173"
      },
      "outputs": [
        {
          "data": {
            "text/plain": [
              "(500, 8)"
            ]
          },
          "execution_count": 1124,
          "metadata": {},
          "output_type": "execute_result"
        }
      ],
      "source": [
        "df.shape"
      ]
    },
    {
      "cell_type": "markdown",
      "metadata": {},
      "source": [
        "Definimos las variables de entrada y salida"
      ]
    },
    {
      "cell_type": "code",
      "execution_count": 1125,
      "metadata": {
        "colab": {
          "base_uri": "https://localhost:8080/",
          "height": 204
        },
        "id": "3nU2GuWYCy6C",
        "outputId": "07302c2a-fe36-4175-dd5c-2492ca0c843f"
      },
      "outputs": [
        {
          "data": {
            "text/html": [
              "<div>\n",
              "<style scoped>\n",
              "    .dataframe tbody tr th:only-of-type {\n",
              "        vertical-align: middle;\n",
              "    }\n",
              "\n",
              "    .dataframe tbody tr th {\n",
              "        vertical-align: top;\n",
              "    }\n",
              "\n",
              "    .dataframe thead th {\n",
              "        text-align: right;\n",
              "    }\n",
              "</style>\n",
              "<table border=\"1\" class=\"dataframe\">\n",
              "  <thead>\n",
              "    <tr style=\"text-align: right;\">\n",
              "      <th></th>\n",
              "      <th>LPE</th>\n",
              "    </tr>\n",
              "  </thead>\n",
              "  <tbody>\n",
              "    <tr>\n",
              "      <th>0</th>\n",
              "      <td>119</td>\n",
              "    </tr>\n",
              "    <tr>\n",
              "      <th>1</th>\n",
              "      <td>1108</td>\n",
              "    </tr>\n",
              "    <tr>\n",
              "      <th>2</th>\n",
              "      <td>132</td>\n",
              "    </tr>\n",
              "    <tr>\n",
              "      <th>3</th>\n",
              "      <td>1386</td>\n",
              "    </tr>\n",
              "    <tr>\n",
              "      <th>4</th>\n",
              "      <td>396</td>\n",
              "    </tr>\n",
              "  </tbody>\n",
              "</table>\n",
              "</div>"
            ],
            "text/plain": [
              "    LPE\n",
              "0   119\n",
              "1  1108\n",
              "2   132\n",
              "3  1386\n",
              "4   396"
            ]
          },
          "execution_count": 1125,
          "metadata": {},
          "output_type": "execute_result"
        }
      ],
      "source": [
        "input_vars = [] #Variables de entrada\n",
        "X = df[df.columns[0:7]] #Dataframe con variables de entrada\n",
        "X.head()\n",
        "y = df[df.columns[-1:]] #Dataframe con variable de salida\n",
        "y.head()"
      ]
    },
    {
      "cell_type": "code",
      "execution_count": 1126,
      "metadata": {},
      "outputs": [
        {
          "data": {
            "text/html": [
              "<div>\n",
              "<style scoped>\n",
              "    .dataframe tbody tr th:only-of-type {\n",
              "        vertical-align: middle;\n",
              "    }\n",
              "\n",
              "    .dataframe tbody tr th {\n",
              "        vertical-align: top;\n",
              "    }\n",
              "\n",
              "    .dataframe thead th {\n",
              "        text-align: right;\n",
              "    }\n",
              "</style>\n",
              "<table border=\"1\" class=\"dataframe\">\n",
              "  <thead>\n",
              "    <tr style=\"text-align: right;\">\n",
              "      <th></th>\n",
              "      <th>Category</th>\n",
              "      <th>Page total likes</th>\n",
              "      <th>Type</th>\n",
              "      <th>Post Month</th>\n",
              "      <th>Post Hour</th>\n",
              "      <th>Post Weekday</th>\n",
              "      <th>Paid</th>\n",
              "    </tr>\n",
              "  </thead>\n",
              "  <tbody>\n",
              "    <tr>\n",
              "      <th>0</th>\n",
              "      <td>2</td>\n",
              "      <td>139441</td>\n",
              "      <td>Photo</td>\n",
              "      <td>12</td>\n",
              "      <td>3</td>\n",
              "      <td>4</td>\n",
              "      <td>0.0</td>\n",
              "    </tr>\n",
              "    <tr>\n",
              "      <th>1</th>\n",
              "      <td>2</td>\n",
              "      <td>139441</td>\n",
              "      <td>Status</td>\n",
              "      <td>12</td>\n",
              "      <td>10</td>\n",
              "      <td>3</td>\n",
              "      <td>0.0</td>\n",
              "    </tr>\n",
              "    <tr>\n",
              "      <th>2</th>\n",
              "      <td>3</td>\n",
              "      <td>139441</td>\n",
              "      <td>Photo</td>\n",
              "      <td>12</td>\n",
              "      <td>3</td>\n",
              "      <td>3</td>\n",
              "      <td>0.0</td>\n",
              "    </tr>\n",
              "    <tr>\n",
              "      <th>3</th>\n",
              "      <td>2</td>\n",
              "      <td>139441</td>\n",
              "      <td>Photo</td>\n",
              "      <td>12</td>\n",
              "      <td>10</td>\n",
              "      <td>2</td>\n",
              "      <td>1.0</td>\n",
              "    </tr>\n",
              "    <tr>\n",
              "      <th>4</th>\n",
              "      <td>2</td>\n",
              "      <td>139441</td>\n",
              "      <td>Photo</td>\n",
              "      <td>12</td>\n",
              "      <td>3</td>\n",
              "      <td>2</td>\n",
              "      <td>0.0</td>\n",
              "    </tr>\n",
              "  </tbody>\n",
              "</table>\n",
              "</div>"
            ],
            "text/plain": [
              "   Category  Page total likes    Type  Post Month  Post Hour  Post Weekday  \\\n",
              "0         2            139441   Photo          12          3             4   \n",
              "1         2            139441  Status          12         10             3   \n",
              "2         3            139441   Photo          12          3             3   \n",
              "3         2            139441   Photo          12         10             2   \n",
              "4         2            139441   Photo          12          3             2   \n",
              "\n",
              "   Paid  \n",
              "0   0.0  \n",
              "1   0.0  \n",
              "2   0.0  \n",
              "3   1.0  \n",
              "4   0.0  "
            ]
          },
          "execution_count": 1126,
          "metadata": {},
          "output_type": "execute_result"
        }
      ],
      "source": [
        "X.head()"
      ]
    },
    {
      "cell_type": "markdown",
      "metadata": {
        "id": "xZhr2hkECzVv"
      },
      "source": [
        "#**Ejercicio-2.**"
      ]
    },
    {
      "cell_type": "markdown",
      "metadata": {},
      "source": [
        "Ahora procedemos a realizar la partición entre los datos de prueba y entrenamiento"
      ]
    },
    {
      "cell_type": "code",
      "execution_count": 1127,
      "metadata": {
        "id": "kGfAoOPkC1PP"
      },
      "outputs": [],
      "source": [
        "#Se pide 100 datos de prueba de un total de 500. Esto representa un 20%\n",
        "X_train, X_test, y_train, y_test = train_test_split (X, y, test_size=0.2, random_state=42)"
      ]
    },
    {
      "cell_type": "markdown",
      "metadata": {
        "id": "NCunuooTC2W3"
      },
      "source": [
        "#**Ejercicio-3.**"
      ]
    },
    {
      "cell_type": "markdown",
      "metadata": {},
      "source": [
        "Definimos las funciones para realizar los cálculos de los errores"
      ]
    },
    {
      "cell_type": "code",
      "execution_count": 1128,
      "metadata": {
        "id": "YXlcSWA-C4Dj"
      },
      "outputs": [],
      "source": [
        "def calculate_RMSE(y_real,y_predicted):\n",
        "    #Raiz cuadrada del error cuadrático medio\n",
        "    #Root Mean Square Error\n",
        "    RMSE = np.sqrt(((y_predicted - y_real) ** 2).mean())\n",
        "    return RMSE\n",
        "    \n",
        "def calculate_MAE(y_real,y_predicted):\n",
        "    #Error absoluto medio\n",
        "    #Mean Absolute Error\n",
        "    MAE = np.mean(np.abs(y_real - y_predicted))\n",
        "    return MAE\n",
        "\n",
        "def calculate_MAPE (y_real,y_predicted):\n",
        "    #Error porcentual absoluto medio (MAPE)\n",
        "    #Mean Absolute Percentage Error\n",
        "    MAPE = np.mean(np.abs((y_real - y_predicted) / y_real))\n",
        "    return MAPE"
      ]
    },
    {
      "cell_type": "markdown",
      "metadata": {},
      "source": [
        "También definimos una función para imprimir las distintas métricas que obtendremos del entrenamiento de los modelos."
      ]
    },
    {
      "cell_type": "code",
      "execution_count": 1129,
      "metadata": {
        "id": "BKI80-YdC4HN"
      },
      "outputs": [],
      "source": [
        "#Función para imprimir las métricas\n",
        "\n",
        "def print_metrics(y_predicted, y_real, model_name):\n",
        "\n",
        "  print(f\"-------Métricas {model_name}-------\\n\")\n",
        "  print(\"RMSE: %.4f \\n\" %(calculate_RMSE(y_predicted, y_real)))\n",
        "  print(\"MAE: %.4f \\n\" %(calculate_MAE(y_predicted, y_real)))\n",
        "  print(\"MAPE: %.4f \\n\" %(calculate_MAPE(y_predicted, y_real)))\n",
        "\n",
        "\n",
        "#Función para definir los scores que vienen del cross_validate\n",
        "def print_scores(score, model_name):\n",
        "  \n",
        "  print(f\"{model_name} train scores\\n\")\n",
        "  print('mean RMSE: %.3f (%.4f) \\nmean MAE: %.3f  (%.4f)\\nmean MAPE: %.3f (%.4f) \\n' % (\n",
        "                                                                          np.mean(score['train_RMSE']),\n",
        "                                                                          np.std(score['train_RMSE']), \n",
        "                                                                          np.mean(score['train_MAE']),\n",
        "                                                                          np.std(score['train_MAE']),\n",
        "                                                                          np.mean(score['train_MAPE']),\n",
        "                                                                          np.std(score['train_MAPE']),\n",
        "                                                                          ))\n",
        "  \n",
        "  print(f\"\\n{model_name} test scores\\n\")\n",
        "  print('mean RMSE: %.3f (%.4f) \\nmean MAE: %.3f  (%.4f)\\nmean MAPE: %.3f (%.4f) \\n' % (\n",
        "                                                                          np.mean(score['test_RMSE']),\n",
        "                                                                          np.std(score['test_RMSE']), \n",
        "                                                                          np.mean(score['test_MAE']),\n",
        "                                                                          np.std(score['test_MAE']),\n",
        "                                                                          np.mean(score['test_MAPE']),\n",
        "                                                                          np.std(score['test_MAPE']),\n",
        "                                                                          ))\n"
      ]
    },
    {
      "cell_type": "markdown",
      "metadata": {
        "id": "chqk9jIDC5Pq"
      },
      "source": [
        "#**Ejercicio-4.**"
      ]
    },
    {
      "cell_type": "markdown",
      "metadata": {},
      "source": [
        "Realizamos un análisis exploratorio de los datos para evaluar su distribución y los métodos de limpieza a utilizar."
      ]
    },
    {
      "cell_type": "code",
      "execution_count": 1130,
      "metadata": {
        "colab": {
          "base_uri": "https://localhost:8080/",
          "height": 390
        },
        "id": "RBVSFwK4C6g9",
        "outputId": "67e31f2c-eeed-4305-c6c0-a44597e8324c"
      },
      "outputs": [
        {
          "data": {
            "text/html": [
              "<div>\n",
              "<style scoped>\n",
              "    .dataframe tbody tr th:only-of-type {\n",
              "        vertical-align: middle;\n",
              "    }\n",
              "\n",
              "    .dataframe tbody tr th {\n",
              "        vertical-align: top;\n",
              "    }\n",
              "\n",
              "    .dataframe thead th {\n",
              "        text-align: right;\n",
              "    }\n",
              "</style>\n",
              "<table border=\"1\" class=\"dataframe\">\n",
              "  <thead>\n",
              "    <tr style=\"text-align: right;\">\n",
              "      <th></th>\n",
              "      <th>Category</th>\n",
              "      <th>Page total likes</th>\n",
              "      <th>Type</th>\n",
              "      <th>Post Month</th>\n",
              "      <th>Post Hour</th>\n",
              "      <th>Post Weekday</th>\n",
              "      <th>Paid</th>\n",
              "    </tr>\n",
              "  </thead>\n",
              "  <tbody>\n",
              "    <tr>\n",
              "      <th>count</th>\n",
              "      <td>400.000000</td>\n",
              "      <td>400.000000</td>\n",
              "      <td>400</td>\n",
              "      <td>400.000000</td>\n",
              "      <td>400.00000</td>\n",
              "      <td>400.000000</td>\n",
              "      <td>399.000000</td>\n",
              "    </tr>\n",
              "    <tr>\n",
              "      <th>unique</th>\n",
              "      <td>NaN</td>\n",
              "      <td>NaN</td>\n",
              "      <td>4</td>\n",
              "      <td>NaN</td>\n",
              "      <td>NaN</td>\n",
              "      <td>NaN</td>\n",
              "      <td>NaN</td>\n",
              "    </tr>\n",
              "    <tr>\n",
              "      <th>top</th>\n",
              "      <td>NaN</td>\n",
              "      <td>NaN</td>\n",
              "      <td>Photo</td>\n",
              "      <td>NaN</td>\n",
              "      <td>NaN</td>\n",
              "      <td>NaN</td>\n",
              "      <td>NaN</td>\n",
              "    </tr>\n",
              "    <tr>\n",
              "      <th>freq</th>\n",
              "      <td>NaN</td>\n",
              "      <td>NaN</td>\n",
              "      <td>346</td>\n",
              "      <td>NaN</td>\n",
              "      <td>NaN</td>\n",
              "      <td>NaN</td>\n",
              "      <td>NaN</td>\n",
              "    </tr>\n",
              "    <tr>\n",
              "      <th>mean</th>\n",
              "      <td>1.880000</td>\n",
              "      <td>123692.070000</td>\n",
              "      <td>NaN</td>\n",
              "      <td>7.075000</td>\n",
              "      <td>7.99500</td>\n",
              "      <td>4.132500</td>\n",
              "      <td>0.298246</td>\n",
              "    </tr>\n",
              "    <tr>\n",
              "      <th>std</th>\n",
              "      <td>0.849945</td>\n",
              "      <td>15813.590103</td>\n",
              "      <td>NaN</td>\n",
              "      <td>3.213283</td>\n",
              "      <td>4.33092</td>\n",
              "      <td>2.038463</td>\n",
              "      <td>0.458062</td>\n",
              "    </tr>\n",
              "    <tr>\n",
              "      <th>min</th>\n",
              "      <td>1.000000</td>\n",
              "      <td>81370.000000</td>\n",
              "      <td>NaN</td>\n",
              "      <td>1.000000</td>\n",
              "      <td>1.00000</td>\n",
              "      <td>1.000000</td>\n",
              "      <td>0.000000</td>\n",
              "    </tr>\n",
              "    <tr>\n",
              "      <th>25%</th>\n",
              "      <td>1.000000</td>\n",
              "      <td>115368.000000</td>\n",
              "      <td>NaN</td>\n",
              "      <td>4.000000</td>\n",
              "      <td>3.00000</td>\n",
              "      <td>2.000000</td>\n",
              "      <td>0.000000</td>\n",
              "    </tr>\n",
              "    <tr>\n",
              "      <th>50%</th>\n",
              "      <td>2.000000</td>\n",
              "      <td>130791.000000</td>\n",
              "      <td>NaN</td>\n",
              "      <td>7.000000</td>\n",
              "      <td>9.00000</td>\n",
              "      <td>4.000000</td>\n",
              "      <td>0.000000</td>\n",
              "    </tr>\n",
              "    <tr>\n",
              "      <th>75%</th>\n",
              "      <td>3.000000</td>\n",
              "      <td>136393.000000</td>\n",
              "      <td>NaN</td>\n",
              "      <td>10.000000</td>\n",
              "      <td>11.00000</td>\n",
              "      <td>6.000000</td>\n",
              "      <td>1.000000</td>\n",
              "    </tr>\n",
              "    <tr>\n",
              "      <th>max</th>\n",
              "      <td>3.000000</td>\n",
              "      <td>139441.000000</td>\n",
              "      <td>NaN</td>\n",
              "      <td>12.000000</td>\n",
              "      <td>23.00000</td>\n",
              "      <td>7.000000</td>\n",
              "      <td>1.000000</td>\n",
              "    </tr>\n",
              "  </tbody>\n",
              "</table>\n",
              "</div>"
            ],
            "text/plain": [
              "          Category  Page total likes   Type  Post Month  Post Hour  \\\n",
              "count   400.000000        400.000000    400  400.000000  400.00000   \n",
              "unique         NaN               NaN      4         NaN        NaN   \n",
              "top            NaN               NaN  Photo         NaN        NaN   \n",
              "freq           NaN               NaN    346         NaN        NaN   \n",
              "mean      1.880000     123692.070000    NaN    7.075000    7.99500   \n",
              "std       0.849945      15813.590103    NaN    3.213283    4.33092   \n",
              "min       1.000000      81370.000000    NaN    1.000000    1.00000   \n",
              "25%       1.000000     115368.000000    NaN    4.000000    3.00000   \n",
              "50%       2.000000     130791.000000    NaN    7.000000    9.00000   \n",
              "75%       3.000000     136393.000000    NaN   10.000000   11.00000   \n",
              "max       3.000000     139441.000000    NaN   12.000000   23.00000   \n",
              "\n",
              "        Post Weekday        Paid  \n",
              "count     400.000000  399.000000  \n",
              "unique           NaN         NaN  \n",
              "top              NaN         NaN  \n",
              "freq             NaN         NaN  \n",
              "mean        4.132500    0.298246  \n",
              "std         2.038463    0.458062  \n",
              "min         1.000000    0.000000  \n",
              "25%         2.000000    0.000000  \n",
              "50%         4.000000    0.000000  \n",
              "75%         6.000000    1.000000  \n",
              "max         7.000000    1.000000  "
            ]
          },
          "execution_count": 1130,
          "metadata": {},
          "output_type": "execute_result"
        }
      ],
      "source": [
        "#Análisis de los datos (boxplot, histograma, resumen estadístico, etc)\n",
        "X_train.describe(include=\"all\")\n",
        "#Los resultados de Category: 1: Action, 2:Product, 3:Inspiration\n",
        "#Paid: (yes, no)"
      ]
    },
    {
      "cell_type": "markdown",
      "metadata": {},
      "source": [
        "De lo anterior se conluye con lo siguiente:\n",
        "\n",
        "* Ninguna variable presenta información missing / nula\n",
        "* No se presentan valores fuera de los umbrales posibles, los valores para los meses son de 1 (enero) a 12 (diciembre)\n",
        "* No se presentan valores fuera de los umbrales posibles, los valores para las horas son de 1 a 23\n",
        "* Los días de la semana están OK los valores posibles son de 1 (lunes) a 7 (domingo)\n",
        "\n",
        "Ahora revisemos las proporciones de las variables categóricas"
      ]
    },
    {
      "cell_type": "code",
      "execution_count": 1131,
      "metadata": {
        "colab": {
          "base_uri": "https://localhost:8080/"
        },
        "id": "gzdimt4q2G5M",
        "outputId": "b0aed905-51bf-4ab3-f07b-4c15a0a69469"
      },
      "outputs": [
        {
          "data": {
            "text/plain": [
              "1    0.4275\n",
              "3    0.3075\n",
              "2    0.2650\n",
              "Name: Category, dtype: float64"
            ]
          },
          "execution_count": 1131,
          "metadata": {},
          "output_type": "execute_result"
        }
      ],
      "source": [
        "X_train['Category'].value_counts()/X_train['Category'].shape"
      ]
    },
    {
      "cell_type": "code",
      "execution_count": 1132,
      "metadata": {
        "colab": {
          "base_uri": "https://localhost:8080/"
        },
        "id": "k9_-ns3472O_",
        "outputId": "57fc6319-1b43-45b7-aff5-8692d92ceb18"
      },
      "outputs": [
        {
          "data": {
            "text/plain": [
              "Photo     0.8650\n",
              "Status    0.0825\n",
              "Link      0.0400\n",
              "Video     0.0125\n",
              "Name: Type, dtype: float64"
            ]
          },
          "execution_count": 1132,
          "metadata": {},
          "output_type": "execute_result"
        }
      ],
      "source": [
        "X_train['Type'].value_counts()/X_train['Type'].shape"
      ]
    },
    {
      "cell_type": "markdown",
      "metadata": {},
      "source": [
        "De lo anterior se observa que el tipo \"Video\" representa apenas un 1%. Agrupemos \"Video\" con \"Link\" para que sea al menos un 5% de la población."
      ]
    },
    {
      "cell_type": "code",
      "execution_count": 1133,
      "metadata": {
        "colab": {
          "base_uri": "https://localhost:8080/"
        },
        "id": "o8Mje3QE8A1n",
        "outputId": "ab90c5c8-b85b-41d5-a011-a758b5c1c6a8"
      },
      "outputs": [
        {
          "data": {
            "text/plain": [
              "Photo         0.8650\n",
              "Status        0.0825\n",
              "Link/Video    0.0525\n",
              "Name: Type, dtype: float64"
            ]
          },
          "execution_count": 1133,
          "metadata": {},
          "output_type": "execute_result"
        }
      ],
      "source": [
        "#Agrupamos Link+Video para que sea al menos el 5% de la población\n",
        "X_train['Type'] = X_train['Type'].map({'Photo':'Photo','Status':'Status','Link':'Link/Video','Video':'Link/Video'})\n",
        "X_train['Type'].value_counts()/X_train['Type'].shape"
      ]
    },
    {
      "cell_type": "code",
      "execution_count": 1134,
      "metadata": {
        "colab": {
          "base_uri": "https://localhost:8080/"
        },
        "id": "2GVGoPLj9v6Z",
        "outputId": "acb2b708-f94e-43c0-ea96-d7ec211ec973"
      },
      "outputs": [
        {
          "data": {
            "text/plain": [
              "10    0.1350\n",
              "7     0.1225\n",
              "12    0.0975\n",
              "6     0.0950\n",
              "4     0.0950\n",
              "3     0.0775\n",
              "9     0.0750\n",
              "8     0.0725\n",
              "5     0.0700\n",
              "11    0.0700\n",
              "2     0.0500\n",
              "1     0.0400\n",
              "Name: Post Month, dtype: float64"
            ]
          },
          "execution_count": 1134,
          "metadata": {},
          "output_type": "execute_result"
        }
      ],
      "source": [
        "X_train['Post Month'].value_counts()/X_train['Post Month'].shape\n",
        "#Todos los meses tienen al menos 5% de la información"
      ]
    },
    {
      "cell_type": "markdown",
      "metadata": {},
      "source": [
        "Procedamos a realizar un diagrama de caja de la variable numérica"
      ]
    },
    {
      "cell_type": "code",
      "execution_count": 1135,
      "metadata": {
        "colab": {
          "base_uri": "https://localhost:8080/",
          "height": 401
        },
        "id": "RcYz9QRO3ish",
        "outputId": "bff4e65f-1d09-4976-ceae-a38c8bee2f79"
      },
      "outputs": [
        {
          "data": {
            "image/png": "[encoded data removed]",
            "text/plain": [
              "<Figure size 640x480 with 1 Axes>"
            ]
          },
          "metadata": {},
          "output_type": "display_data"
        }
      ],
      "source": [
        "plt.boxplot(X_train['Page total likes'])\n",
        "plt.show()"
      ]
    },
    {
      "cell_type": "markdown",
      "metadata": {},
      "source": [
        "De lo anterior se observa que los datos tienen un sesgo a la izquierda, pero no se observan valores atípicos. Ahora revisemos la variable de salida."
      ]
    },
    {
      "cell_type": "code",
      "execution_count": 1136,
      "metadata": {},
      "outputs": [
        {
          "data": {
            "text/plain": [
              "<AxesSubplot: >"
            ]
          },
          "execution_count": 1136,
          "metadata": {},
          "output_type": "execute_result"
        },
        {
          "data": {
            "image/png": "[encoded data removed]",
            "text/plain": [
              "<Figure size 640x480 with 1 Axes>"
            ]
          },
          "metadata": {},
          "output_type": "display_data"
        }
      ],
      "source": [
        "y_train.boxplot()"
      ]
    },
    {
      "cell_type": "code",
      "execution_count": 1137,
      "metadata": {},
      "outputs": [
        {
          "data": {
            "text/plain": [
              "array([[<AxesSubplot: title={'center': 'LPE'}>]], dtype=object)"
            ]
          },
          "execution_count": 1137,
          "metadata": {},
          "output_type": "execute_result"
        },
        {
          "data": {
            "image/png": "[encoded data removed]",
            "text/plain": [
              "<Figure size 640x480 with 1 Axes>"
            ]
          },
          "metadata": {},
          "output_type": "display_data"
        }
      ],
      "source": [
        "y_train.hist()"
      ]
    },
    {
      "cell_type": "markdown",
      "metadata": {},
      "source": [
        "De los gráficos anteriores se observa un sesgo a la derecha. También se puede observar del diagrama de caja valores atípicos que podrían afectar el desempeño de nuestro modelo. Esto significa que debemos realizar una transformación a la variable de salida para fines de entrenamiento. Probemos realizando una transformación logarítimica."
      ]
    },
    {
      "cell_type": "code",
      "execution_count": 1138,
      "metadata": {},
      "outputs": [
        {
          "data": {
            "text/plain": [
              "<AxesSubplot: ylabel='Count'>"
            ]
          },
          "execution_count": 1138,
          "metadata": {},
          "output_type": "execute_result"
        },
        {
          "data": {
            "image/png": "[encoded data removed]",
            "text/plain": [
              "<Figure size 640x480 with 1 Axes>"
            ]
          },
          "metadata": {},
          "output_type": "display_data"
        }
      ],
      "source": [
        "\n",
        "sns.histplot(np.log(y_train))"
      ]
    },
    {
      "cell_type": "markdown",
      "metadata": {},
      "source": [
        "La transformación aplicada resulta adecuada, ya que se observa una distribución uniforme de tipo campana.\n",
        "\n",
        "Ahora procedamos a definir los piplines"
      ]
    },
    {
      "cell_type": "code",
      "execution_count": 1139,
      "metadata": {
        "id": "7KXnlNzAC69Y"
      },
      "outputs": [],
      "source": [
        "#Preprocessor con todos los pipes y transformaciones\n",
        "# Se estandarizan las columnas numéricas y se hace one-hot-encoding de las columnas cualitativas, ordinales\n",
        "\n",
        "numeric_cols = [\"Page total likes\"]\n",
        "cat_cols = [\"Category\",\"Type\"]\n",
        "bin_cols = [\"Paid\"]\n",
        "ord_cols = [\"Post Month\",\"Post Hour\",\"Post Weekday\"]\n",
        "\n",
        "#Para la variable numérica, proponemos la mediana 50% de la población arriba y por debajo del umbral\n",
        "#Realizamos una transformación z-score\n",
        "numeric_transformer = Pipeline(\n",
        "                        steps=[\n",
        "                            ('imputer', SimpleImputer(strategy='median')),\n",
        "                            ('scaler', StandardScaler()),                            \n",
        "                        ]\n",
        "                      )\n",
        "\n",
        "# Transformaciones para las variables categóricas, ordinales y binaria\n",
        "#Para las variables categóricas, ordinales y binarias proponemos el equivalente a la moda para distribuciones, es decir, estaremos imputando usando el valor que más se repite\n",
        "categorical_transformer = Pipeline(\n",
        "                            steps=[\n",
        "                                ('imputer', SimpleImputer(strategy='most_frequent')),\n",
        "                                ('onehot', OneHotEncoder(handle_unknown='ignore'))\n",
        "                            ]\n",
        "                          )\n",
        "\n",
        "preprocessor = ColumnTransformer(\n",
        "                    transformers=[\n",
        "                        ('numeric', numeric_transformer, numeric_cols),\n",
        "                        ('cat', categorical_transformer, cat_cols + bin_cols),\n",
        "                        ('ord', SimpleImputer(strategy=\"most_frequent\"), ord_cols)\n",
        "                                            ],\n",
        "                    remainder='passthrough'\n",
        "                )"
      ]
    },
    {
      "cell_type": "markdown",
      "metadata": {
        "id": "Rv7KFq-mC7PS"
      },
      "source": [
        "#**Ejercicio-5.**"
      ]
    },
    {
      "cell_type": "markdown",
      "metadata": {},
      "source": [
        "Realizamos el entrenamiento de un modelo dummy, el cual nos arrojará los resultados mínimos a lograr para cada modelo que estaremos probando."
      ]
    },
    {
      "cell_type": "code",
      "execution_count": 1140,
      "metadata": {
        "id": "jaDj3kawC9B6"
      },
      "outputs": [],
      "source": [
        "#Particionamos el conjunto de entrenamiento y validación en 25% para validación (100) y el restante para entrenamiento.\n",
        "X_train_dummy, X_val_dummy, y_train_dummy, y_val_dummy = train_test_split(X_train, y_train, test_size = 0.25)"
      ]
    },
    {
      "cell_type": "code",
      "execution_count": 1141,
      "metadata": {
        "id": "4tQxQROVC9Us"
      },
      "outputs": [],
      "source": [
        "#Entrenamos el Dummy regressor\n",
        "\n",
        "dummy_pipe = Pipeline (steps = [\n",
        "      (\"transformer\", preprocessor), \n",
        "      (\"model\", DummyRegressor())\n",
        "      ])\n",
        "\n",
        "\n",
        "final_model=TransformedTargetRegressor(regressor=dummy_pipe, \n",
        "                                  func= np.log, \n",
        "                                  inverse_func= np.exp) \n",
        "\n",
        "final_model.fit(X_train_dummy, y_train_dummy.values.ravel())\n",
        "\n",
        "train_predictions = final_model.predict(X_train_dummy)\n",
        "test_predictions = final_model.predict(X_val_dummy)"
      ]
    },
    {
      "cell_type": "code",
      "execution_count": 1142,
      "metadata": {
        "colab": {
          "base_uri": "https://localhost:8080/"
        },
        "id": "m-10YKTGohG4",
        "outputId": "e3801ff9-946b-461e-bfdd-fdfe65dfd286"
      },
      "outputs": [
        {
          "name": "stdout",
          "output_type": "stream",
          "text": [
            "-------Métricas Train Dummy Regressor-------\n",
            "\n",
            "RMSE: 639.5043 \n",
            "\n",
            "MAE: 343.3746 \n",
            "\n",
            "MAPE: 0.7553 \n",
            "\n",
            "-------Métricas Test Dummy Regressor-------\n",
            "\n",
            "RMSE: 608.2024 \n",
            "\n",
            "MAE: 339.5862 \n",
            "\n",
            "MAPE: 0.7469 \n",
            "\n"
          ]
        }
      ],
      "source": [
        "#Imprimimos las métricas\n",
        "\n",
        "print_metrics(train_predictions, y_train_dummy.values.ravel(), \"Train Dummy Regressor\")\n",
        "print_metrics(test_predictions, y_val_dummy.values.ravel(), \"Test Dummy Regressor\")"
      ]
    },
    {
      "cell_type": "markdown",
      "metadata": {
        "id": "W2S7LI0NC9wE"
      },
      "source": [
        "#**Ejercicio-6.**"
      ]
    },
    {
      "cell_type": "markdown",
      "metadata": {},
      "source": [
        "Procedemos a entrenar nuestros modelos"
      ]
    },
    {
      "cell_type": "code",
      "execution_count": 1143,
      "metadata": {
        "id": "x6uBleJUC_AU"
      },
      "outputs": [],
      "source": [
        "\n",
        "kfold = RepeatedKFold (n_splits= 5, n_repeats= 3, random_state=42)"
      ]
    },
    {
      "cell_type": "code",
      "execution_count": 1144,
      "metadata": {
        "id": "-XAsXIiRA_ZD"
      },
      "outputs": [],
      "source": [
        "\n",
        "model_names = [\"Multiple Linear Regression\", \"Random Forest\", \"Multilayer Perceptron\"]\n",
        "models = [\n",
        "   LinearRegression(), \n",
        "    RandomForestRegressor(), \n",
        "    MLPRegressor(max_iter = 50000)]\n"
      ]
    },
    {
      "cell_type": "code",
      "execution_count": 1145,
      "metadata": {
        "colab": {
          "base_uri": "https://localhost:8080/"
        },
        "id": "rjYGOhKYA_ZD",
        "outputId": "7bfc1cfe-49ad-46d3-e4bb-8c7819317828"
      },
      "outputs": [
        {
          "name": "stdout",
          "output_type": "stream",
          "text": [
            "Multiple Linear Regression train scores\n",
            "\n",
            "mean RMSE: -530.895 (16.9794) \n",
            "mean MAE: -281.564  (9.7480)\n",
            "mean MAPE: -0.807 (0.0875) \n",
            "\n",
            "\n",
            "Multiple Linear Regression test scores\n",
            "\n",
            "mean RMSE: -544.076 (78.6654) \n",
            "mean MAE: -291.927  (37.1803)\n",
            "mean MAPE: -0.873 (0.4138) \n",
            "\n",
            "Random Forest train scores\n",
            "\n",
            "mean RMSE: -272.627 (12.1109) \n",
            "mean MAE: -129.381  (5.9884)\n",
            "mean MAPE: -0.214 (0.0112) \n",
            "\n",
            "\n",
            "Random Forest test scores\n",
            "\n",
            "mean RMSE: -539.965 (71.3136) \n",
            "mean MAE: -303.318  (37.9030)\n",
            "mean MAPE: -0.893 (0.3861) \n",
            "\n",
            "Multilayer Perceptron train scores\n",
            "\n",
            "mean RMSE: -433.701 (21.8834) \n",
            "mean MAE: -230.645  (12.3070)\n",
            "mean MAPE: -0.522 (0.0598) \n",
            "\n",
            "\n",
            "Multilayer Perceptron test scores\n",
            "\n",
            "mean RMSE: -605.824 (120.7428) \n",
            "mean MAE: -325.748  (57.4634)\n",
            "mean MAPE: -0.985 (0.4286) \n",
            "\n"
          ]
        }
      ],
      "source": [
        "\n",
        "\n",
        "scores = [] # Donde irán los resultados para el boxplot\n",
        "scorings = {\n",
        "      'MAPE': 'neg_mean_absolute_percentage_error', # make_scorer(calculate_MAPE, greater_is_better = False), \n",
        "      'MAE': make_scorer(calculate_MAE,greater_is_better = False), \n",
        "      'RMSE': make_scorer(calculate_RMSE,greater_is_better = False)}\n",
        "\n",
        "for i in range(len(models)):\n",
        "    \n",
        "    pipe = Pipeline (steps = [\n",
        "      (\"transformer\", preprocessor), \n",
        "      (\"model\", models[i])\n",
        "      ]) \n",
        "    \n",
        "    final_model=TransformedTargetRegressor(regressor=pipe, \n",
        "                                  func= np.log, \n",
        "                                  inverse_func= np.exp) \n",
        "\n",
        "    score = cross_validate(\n",
        "      estimator = final_model, \n",
        "      X = X_train, \n",
        "      y = y_train.values.ravel(), \n",
        "      cv=kfold, \n",
        "      scoring = scorings, \n",
        "     return_train_score= True,\n",
        "     \n",
        "      n_jobs = -1)\n",
        "    \n",
        "    \n",
        "  \n",
        "    scores.append(score[\"test_MAPE\"])\n",
        "    print_scores(score, model_names[i])\n",
        "    "
      ]
    },
    {
      "cell_type": "markdown",
      "metadata": {},
      "source": [
        "De los resultados obtenidos arriba podemos observar que prácticamente todos los modelos están sobreentrenados. Esto se evidencia porque los valores del MAPE obtenidos del entrenamiento son mucho mas bajos que los que se obtiene del conjunto de validación."
      ]
    },
    {
      "cell_type": "markdown",
      "metadata": {
        "id": "iCNGx4TQ8CFI"
      },
      "source": [
        "#**Ejercicio-7.**"
      ]
    },
    {
      "cell_type": "markdown",
      "metadata": {},
      "source": [
        "Realizamos el diagrama de caja de los resultados obtenidos de cada modelo"
      ]
    },
    {
      "cell_type": "code",
      "execution_count": 1146,
      "metadata": {
        "colab": {
          "base_uri": "https://localhost:8080/",
          "height": 332
        },
        "id": "ewvwUcJX78y1",
        "outputId": "f567968c-d902-4137-8cde-734dec26ba14"
      },
      "outputs": [
        {
          "name": "stdout",
          "output_type": "stream",
          "text": [
            "\n",
            "Boxplot chart\n",
            "\n"
          ]
        },
        {
          "data": {
            "image/png": "[encoded data removed]",
            "text/plain": [
              "<Figure size 640x480 with 1 Axes>"
            ]
          },
          "metadata": {},
          "output_type": "display_data"
        }
      ],
      "source": [
        "print(\"\\nBoxplot chart\\n\")\n",
        "plt.title(\"Boxplots para la métrica MAPE\")\n",
        "plt.boxplot(scores,labels=model_names,showmeans=True)\n",
        "\n",
        "plt.show()"
      ]
    },
    {
      "cell_type": "markdown",
      "metadata": {},
      "source": [
        "Del gráfico anterior podemos observar una alta variablidad en la métrica del MAPE para cada uno de los modelos. Por ejemplo, el MAPE varía entre 0.4 y 1.8 aproximadamente, con una variabilidad y una media muy similar entre cada uno de los modelos.\n",
        "\n",
        "Una posible causa de esta alta variabilidad del MAPE en los modelos podría deberse a que se cuentan con relativamente pocos datos para entrenar (el dataset tiene apenas 500 entradas), como se comentó arriba. Por tanto, es de esperarse que tengamos valores muy diferentes cada vez que corramos los modelos.\n",
        "\n",
        "Por otro lado, si comparamos estos resultados con lo obtenidos por los autores podemos evidenciar que estos se encuentran muy lejos del 0.27 que se muestra en el artículo. Esto es un indicativo de que estos modelos están subentrenados, pues el mejor MAPE logrado durante el entrenamiento fue de cerca de un 0.40, aún muy lejos del 0.27 que obtuvieron los autores."
      ]
    },
    {
      "cell_type": "markdown",
      "metadata": {
        "id": "tzQn5NR78GFg"
      },
      "source": [
        "#**Ejercicio-8.**"
      ]
    },
    {
      "cell_type": "markdown",
      "metadata": {},
      "source": [
        "Ahora procedamos a buscar los valores óptimos para el modelo MLP"
      ]
    },
    {
      "cell_type": "code",
      "execution_count": 1163,
      "metadata": {
        "id": "EBKcp0278IQV"
      },
      "outputs": [
        {
          "name": "stderr",
          "output_type": "stream",
          "text": [
            "/Users/rmateoc/opt/anaconda3/envs/python310/lib/python3.10/site-packages/sklearn/preprocessing/_function_transformer.py:292: RuntimeWarning: overflow encountered in exp\n",
            "  return func(X, **(kw_args if kw_args else {}))\n",
            "/Users/rmateoc/opt/anaconda3/envs/python310/lib/python3.10/site-packages/sklearn/preprocessing/_function_transformer.py:292: RuntimeWarning: overflow encountered in exp\n",
            "  return func(X, **(kw_args if kw_args else {}))\n",
            "/Users/rmateoc/opt/anaconda3/envs/python310/lib/python3.10/site-packages/sklearn/preprocessing/_function_transformer.py:292: RuntimeWarning: overflow encountered in exp\n",
            "  return func(X, **(kw_args if kw_args else {}))\n",
            "/Users/rmateoc/opt/anaconda3/envs/python310/lib/python3.10/site-packages/sklearn/preprocessing/_function_transformer.py:292: RuntimeWarning: overflow encountered in exp\n",
            "  return func(X, **(kw_args if kw_args else {}))\n",
            "/Users/rmateoc/opt/anaconda3/envs/python310/lib/python3.10/site-packages/sklearn/preprocessing/_function_transformer.py:292: RuntimeWarning: overflow encountered in exp\n",
            "  return func(X, **(kw_args if kw_args else {}))\n",
            "/Users/rmateoc/opt/anaconda3/envs/python310/lib/python3.10/site-packages/sklearn/preprocessing/_function_transformer.py:292: RuntimeWarning: overflow encountered in exp\n",
            "  return func(X, **(kw_args if kw_args else {}))\n",
            "/Users/rmateoc/opt/anaconda3/envs/python310/lib/python3.10/site-packages/sklearn/preprocessing/_function_transformer.py:292: RuntimeWarning: overflow encountered in exp\n",
            "  return func(X, **(kw_args if kw_args else {}))\n",
            "/Users/rmateoc/opt/anaconda3/envs/python310/lib/python3.10/site-packages/sklearn/preprocessing/_function_transformer.py:292: RuntimeWarning: overflow encountered in exp\n",
            "  return func(X, **(kw_args if kw_args else {}))\n",
            "/Users/rmateoc/opt/anaconda3/envs/python310/lib/python3.10/site-packages/sklearn/preprocessing/_function_transformer.py:292: RuntimeWarning: overflow encountered in exp\n",
            "  return func(X, **(kw_args if kw_args else {}))\n",
            "/Users/rmateoc/opt/anaconda3/envs/python310/lib/python3.10/site-packages/sklearn/preprocessing/_function_transformer.py:292: RuntimeWarning: overflow encountered in exp\n",
            "  return func(X, **(kw_args if kw_args else {}))\n",
            "/Users/rmateoc/opt/anaconda3/envs/python310/lib/python3.10/site-packages/sklearn/preprocessing/_function_transformer.py:292: RuntimeWarning: overflow encountered in exp\n",
            "  return func(X, **(kw_args if kw_args else {}))\n",
            "/Users/rmateoc/opt/anaconda3/envs/python310/lib/python3.10/site-packages/sklearn/preprocessing/_function_transformer.py:292: RuntimeWarning: overflow encountered in exp\n",
            "  return func(X, **(kw_args if kw_args else {}))\n",
            "/Users/rmateoc/opt/anaconda3/envs/python310/lib/python3.10/site-packages/sklearn/preprocessing/_function_transformer.py:292: RuntimeWarning: overflow encountered in exp\n",
            "  return func(X, **(kw_args if kw_args else {}))\n",
            "/Users/rmateoc/opt/anaconda3/envs/python310/lib/python3.10/site-packages/sklearn/preprocessing/_function_transformer.py:292: RuntimeWarning: overflow encountered in exp\n",
            "  return func(X, **(kw_args if kw_args else {}))\n",
            "/Users/rmateoc/opt/anaconda3/envs/python310/lib/python3.10/site-packages/sklearn/preprocessing/_function_transformer.py:292: RuntimeWarning: overflow encountered in exp\n",
            "  return func(X, **(kw_args if kw_args else {}))\n",
            "/Users/rmateoc/opt/anaconda3/envs/python310/lib/python3.10/site-packages/sklearn/preprocessing/_function_transformer.py:292: RuntimeWarning: overflow encountered in exp\n",
            "  return func(X, **(kw_args if kw_args else {}))\n",
            "/Users/rmateoc/opt/anaconda3/envs/python310/lib/python3.10/site-packages/sklearn/preprocessing/_function_transformer.py:292: RuntimeWarning: overflow encountered in exp\n",
            "  return func(X, **(kw_args if kw_args else {}))\n",
            "/Users/rmateoc/opt/anaconda3/envs/python310/lib/python3.10/site-packages/sklearn/preprocessing/_function_transformer.py:292: RuntimeWarning: overflow encountered in exp\n",
            "  return func(X, **(kw_args if kw_args else {}))\n",
            "/Users/rmateoc/opt/anaconda3/envs/python310/lib/python3.10/site-packages/sklearn/preprocessing/_function_transformer.py:292: RuntimeWarning: overflow encountered in exp\n",
            "  return func(X, **(kw_args if kw_args else {}))\n",
            "/Users/rmateoc/opt/anaconda3/envs/python310/lib/python3.10/site-packages/sklearn/preprocessing/_function_transformer.py:292: RuntimeWarning: overflow encountered in exp\n",
            "  return func(X, **(kw_args if kw_args else {}))\n",
            "/Users/rmateoc/opt/anaconda3/envs/python310/lib/python3.10/site-packages/sklearn/preprocessing/_function_transformer.py:292: RuntimeWarning: overflow encountered in exp\n",
            "  return func(X, **(kw_args if kw_args else {}))\n",
            "/Users/rmateoc/opt/anaconda3/envs/python310/lib/python3.10/site-packages/sklearn/preprocessing/_function_transformer.py:292: RuntimeWarning: overflow encountered in exp\n",
            "  return func(X, **(kw_args if kw_args else {}))\n",
            "/Users/rmateoc/opt/anaconda3/envs/python310/lib/python3.10/site-packages/sklearn/preprocessing/_function_transformer.py:292: RuntimeWarning: overflow encountered in exp\n",
            "  return func(X, **(kw_args if kw_args else {}))\n",
            "/Users/rmateoc/opt/anaconda3/envs/python310/lib/python3.10/site-packages/sklearn/preprocessing/_function_transformer.py:292: RuntimeWarning: overflow encountered in exp\n",
            "  return func(X, **(kw_args if kw_args else {}))\n",
            "/Users/rmateoc/opt/anaconda3/envs/python310/lib/python3.10/site-packages/sklearn/preprocessing/_function_transformer.py:292: RuntimeWarning: overflow encountered in exp\n",
            "  return func(X, **(kw_args if kw_args else {}))\n",
            "/Users/rmateoc/opt/anaconda3/envs/python310/lib/python3.10/site-packages/sklearn/preprocessing/_function_transformer.py:292: RuntimeWarning: overflow encountered in exp\n",
            "  return func(X, **(kw_args if kw_args else {}))\n",
            "/Users/rmateoc/opt/anaconda3/envs/python310/lib/python3.10/site-packages/sklearn/preprocessing/_function_transformer.py:292: RuntimeWarning: overflow encountered in exp\n",
            "  return func(X, **(kw_args if kw_args else {}))\n",
            "/Users/rmateoc/opt/anaconda3/envs/python310/lib/python3.10/site-packages/sklearn/preprocessing/_function_transformer.py:292: RuntimeWarning: overflow encountered in exp\n",
            "  return func(X, **(kw_args if kw_args else {}))\n"
          ]
        },
        {
          "name": "stdout",
          "output_type": "stream",
          "text": [
            "Best parameter (CV score=-0.817):\n",
            "{'regressor__regressor__alpha': 1, 'regressor__regressor__hidden_layer_sizes': (5, 5, 5), 'regressor__regressor__learning_rate_init': 0.1}\n"
          ]
        }
      ],
      "source": [
        "warnings.filterwarnings(\"ignore\")\n",
        "\n",
        "ColumnPreprocessor = preprocessor\n",
        "\n",
        "model = MLPRegressor(max_iter=100000)\n",
        "\n",
        "fullPipeline = Pipeline(steps = [('preprocessor', ColumnPreprocessor),('regressor', model)])\n",
        "\n",
        "#Transformamos las y\n",
        "final_model=TransformedTargetRegressor(regressor=fullPipeline, \n",
        "                                  func= np.log,\n",
        "                                  inverse_func= np.exp\n",
        "                                   ) \n",
        "\n",
        "parameter_space = {\n",
        "    'regressor__regressor__hidden_layer_sizes': [(1,1), (5,5), (5,5,5), (10,10), (10,5,1), (15,15), (15,15,15)],\n",
        "    'regressor__regressor__alpha': [0.0001,0.001, 0.01, 0.05,1,5,10],\n",
        "    'regressor__regressor__learning_rate_init': [0.01,0.1,0.5,1,5,10],\n",
        "}\n",
        "\n",
        "search = GridSearchCV(final_model, \n",
        "                      parameter_space, \n",
        "                      n_jobs=-1,\n",
        "                      cv=kfold,\n",
        "                      scoring=make_scorer(calculate_MAPE, greater_is_better = False)  \n",
        "                      )\n",
        "\n",
        "search.fit(X_train, y_train.values.ravel())\n",
        "\n",
        "print(\"Best parameter (CV score=%0.3f):\" % search.best_score_)\n",
        "print(search.best_params_)"
      ]
    },
    {
      "cell_type": "code",
      "execution_count": 1164,
      "metadata": {},
      "outputs": [
        {
          "data": {
            "text/plain": [
              "0.7355067087530277"
            ]
          },
          "execution_count": 1164,
          "metadata": {},
          "output_type": "execute_result"
        }
      ],
      "source": [
        "search.best_estimator_.fit(X_train, y_train.values.ravel())\n",
        "predict = search.best_estimator_.predict(X_test)\n",
        "\n",
        "calculate_MAPE(y_test.values.ravel(), predict)"
      ]
    },
    {
      "cell_type": "markdown",
      "metadata": {
        "id": "mASNrZWs8JTh"
      },
      "source": [
        "#**Ejercicio-9.**"
      ]
    },
    {
      "cell_type": "code",
      "execution_count": 1165,
      "metadata": {
        "id": "X6HJP9hb8LCp"
      },
      "outputs": [
        {
          "name": "stdout",
          "output_type": "stream",
          "text": [
            "Feature: Category, Score: 0.01400\n",
            "Feature: Page total likes, Score: 0.09942\n",
            "Feature: Type, Score: 0.68262\n",
            "Feature: Post Month, Score: 0.25778\n",
            "Feature: Post Hour, Score: 0.07421\n",
            "Feature: Post Weekday, Score: 0.00309\n",
            "Feature: Paid, Score: -0.00744\n"
          ]
        },
        {
          "data": {
            "image/png": "[encoded data removed]",
            "text/plain": [
              "<Figure size 640x480 with 1 Axes>"
            ]
          },
          "metadata": {},
          "output_type": "display_data"
        }
      ],
      "source": [
        "importance = permutation_importance(search.best_estimator_, X_test, y_test.values.ravel(), n_repeats=10)\n",
        "\n",
        "# visualicemos la importancia de cada métrica, de las cuales sabemos\n",
        "# cuáles son las más importantes, de acuerdo a como se definieron al inicio:\n",
        "\n",
        "for i,v in enumerate(importance['importances_mean']):\n",
        "\tprint('Feature: %s, Score: %.5f' % (X.columns[i],v))\n",
        " \n",
        "plt.barh(X.columns.to_numpy(), importance['importances_mean'])\n",
        "plt.show()"
      ]
    },
    {
      "cell_type": "markdown",
      "metadata": {},
      "source": [
        "**Conclusiones**\n",
        "\n",
        "Del gráfico anterior se puede apreciar que la variable \"Post Month\" es la que representa mayor importancia respectoa las demás. En segundo lugar se encuentra la variable \"Type\" con un 30% aproximadamente.\n",
        "\n",
        "Esto significa que para optimizar el LPE contribuye mucho el es en el que se hace la publicación, así como el tipo y el total de likes de la página. Las demás variables presentan poca importancia respecto a las 3 ya mencionadas.\n",
        "\n",
        "Sin embargo, es importante destacar que el modelo final resultó con un MAPE de alrededor de 0.95 con el conjunto de prueba. Esto significa que el % de error es muy alto como para poder concluir que estos resultados sean confiables.\n",
        "\n",
        "Procedamos a evaluar los resultados de los otros modelos."
      ]
    },
    {
      "cell_type": "markdown",
      "metadata": {
        "id": "VUIcDshs8MzG"
      },
      "source": [
        "#**Ejercicio-10.**"
      ]
    },
    {
      "cell_type": "code",
      "execution_count": 1150,
      "metadata": {
        "id": "0lKNJNIt8N88"
      },
      "outputs": [
        {
          "name": "stdout",
          "output_type": "stream",
          "text": [
            "Best parameter (CV score=-0.813):\n",
            "{'regressor__regressor__ccp_alpha': 0, 'regressor__regressor__criterion': 'absolute_error', 'regressor__regressor__max_depth': 5, 'regressor__regressor__min_samples_leaf': 0.1, 'regressor__regressor__min_samples_split': 0.5, 'regressor__regressor__n_estimators': 100}\n"
          ]
        }
      ],
      "source": [
        "ColumnPreprocessor = preprocessor\n",
        "\n",
        "mi_regressor = RandomForestRegressor(n_jobs=-1)\n",
        "\n",
        "fullPipeline = Pipeline(steps = [('preprocessor', ColumnPreprocessor),('regressor', mi_regressor)])\n",
        "\n",
        "final_model=TransformedTargetRegressor(regressor=fullPipeline, \n",
        "                                  func= np.log,\n",
        "                                  inverse_func= np.exp\n",
        "                                   ) \n",
        "\n",
        "parameter_space = {\n",
        "    'regressor__regressor__criterion':['squared_error', 'absolute_error', 'poisson'], \n",
        "    'regressor__regressor__ccp_alpha':[0,0.1,1], \n",
        "    'regressor__regressor__max_depth':[1,5,10], \n",
        "    'regressor__regressor__min_samples_split':[0.1,0.5,1.0],\n",
        "    'regressor__regressor__min_samples_leaf':[0.1,0.5,0.8],\n",
        "    'regressor__regressor__n_estimators':[100,200],}\n",
        "    #'regressor__regressor__max_features':['sqrt', 'log2', None]}\n",
        "\n",
        "search = GridSearchCV(final_model, \n",
        "                      parameter_space, \n",
        "                      n_jobs=-1,\n",
        "                      cv=kfold,\n",
        "                      scoring=make_scorer(calculate_MAPE,greater_is_better=False)   \n",
        "                      )\n",
        "\n",
        "search.fit(X_train, y_train.values.ravel())\n",
        "\n",
        "print(\"Best parameter (CV score=%0.3f):\" % search.best_score_)\n",
        "print(search.best_params_)"
      ]
    },
    {
      "cell_type": "code",
      "execution_count": 1151,
      "metadata": {},
      "outputs": [
        {
          "data": {
            "text/plain": [
              "0.6847958475419368"
            ]
          },
          "execution_count": 1151,
          "metadata": {},
          "output_type": "execute_result"
        }
      ],
      "source": [
        "search.best_estimator_.fit(X_train, y_train.values.ravel())\n",
        "predict = search.best_estimator_.predict(X_test)\n",
        "\n",
        "calculate_MAPE(y_test.values.ravel(), predict)"
      ]
    },
    {
      "cell_type": "code",
      "execution_count": 1152,
      "metadata": {
        "id": "Inkq5YQe8PED"
      },
      "outputs": [
        {
          "name": "stdout",
          "output_type": "stream",
          "text": [
            "Feature: Category, Score: -0.00000\n",
            "Feature: Page total likes, Score: 0.02758\n",
            "Feature: Type, Score: 0.00194\n",
            "Feature: Post Month, Score: 0.00002\n",
            "Feature: Post Hour, Score: -0.00000\n",
            "Feature: Post Weekday, Score: -0.00000\n",
            "Feature: Paid, Score: -0.00000\n"
          ]
        },
        {
          "data": {
            "image/png": "[encoded data removed]",
            "text/plain": [
              "<Figure size 640x480 with 1 Axes>"
            ]
          },
          "metadata": {},
          "output_type": "display_data"
        }
      ],
      "source": [
        "importance = permutation_importance(search.best_estimator_, X_test, y_test.values.ravel(), n_repeats=10)\n",
        "\n",
        "for i,v in enumerate(importance['importances_mean']):\n",
        "\tprint('Feature: %s, Score: %.5f' % (X.columns[i],v))\n",
        " \n",
        "plt.barh(X.columns.to_numpy(), importance['importances_mean'])\n",
        "plt.show()"
      ]
    },
    {
      "cell_type": "markdown",
      "metadata": {},
      "source": [
        "**Conclusiones**\n",
        "\n",
        "Con este modelo se obtuvieron resultados similares al MLP, donde se observa que las 2 variables de mayor importancia son Type y Page total likes. Sin embargo, a diferencia del modelo anterior, se observa que las demás variables no tuvieron gran importancia para los resultados de este modelo.\n",
        "\n",
        "Un punto importante a destacar es que este modelo fue el que mejor desempeño obtuvo en función del MAPE, con un 0.68."
      ]
    },
    {
      "cell_type": "markdown",
      "metadata": {
        "id": "5LJl6oql8Pc8"
      },
      "source": [
        "#**Ejercicio-11.**"
      ]
    },
    {
      "cell_type": "code",
      "execution_count": 1166,
      "metadata": {
        "id": "-YiSnt9t8RfN"
      },
      "outputs": [
        {
          "name": "stdout",
          "output_type": "stream",
          "text": [
            "Best parameter (CV score=-0.873):\n",
            "{'regressor__regressor__copy_X': True, 'regressor__regressor__fit_intercept': True}\n"
          ]
        }
      ],
      "source": [
        "ColumnPreprocessor = preprocessor\n",
        "\n",
        "\n",
        "mi_regressor = LinearRegression()\n",
        "\n",
        "fullPipeline = Pipeline(steps = [('preprocessor', ColumnPreprocessor),('regressor', mi_regressor)])\n",
        "\n",
        "final_model=TransformedTargetRegressor(regressor=fullPipeline, \n",
        "                                  func= np.log,\n",
        "                                  inverse_func= np.exp\n",
        "                                   ) \n",
        "\n",
        "\n",
        "parameter_space = {\n",
        "    'regressor__regressor__fit_intercept': [True, False],\n",
        "    'regressor__regressor__copy_X': [True, False],\n",
        "}\n",
        "\n",
        "search = GridSearchCV(final_model, \n",
        "                      parameter_space, \n",
        "                      n_jobs=-1,\n",
        "                      cv=kfold,\n",
        "                      scoring=make_scorer(calculate_MAPE,greater_is_better=False)   \n",
        "                      )\n",
        "\n",
        "search.fit(X_train, y_train.values.ravel())\n",
        "\n",
        "print(\"Best parameter (CV score=%0.3f):\" % search.best_score_)\n",
        "print(search.best_params_)"
      ]
    },
    {
      "cell_type": "code",
      "execution_count": 1167,
      "metadata": {},
      "outputs": [
        {
          "data": {
            "text/plain": [
              "0.9071350671257629"
            ]
          },
          "execution_count": 1167,
          "metadata": {},
          "output_type": "execute_result"
        }
      ],
      "source": [
        "search.best_estimator_.fit(X_train, y_train.values.ravel())\n",
        "predict = search.best_estimator_.predict(X_test)\n",
        "\n",
        "calculate_MAPE(y_test.values.ravel(), predict)"
      ]
    },
    {
      "cell_type": "code",
      "execution_count": 1159,
      "metadata": {
        "id": "2iRA78ZC8Rbm"
      },
      "outputs": [
        {
          "name": "stdout",
          "output_type": "stream",
          "text": [
            "Feature: Category, Score: -0.02197\n",
            "Feature: Page total likes, Score: 0.23624\n",
            "Feature: Type, Score: 0.77492\n",
            "Feature: Post Month, Score: 0.72734\n",
            "Feature: Post Hour, Score: -0.00797\n",
            "Feature: Post Weekday, Score: 0.00817\n",
            "Feature: Paid, Score: -0.00683\n"
          ]
        },
        {
          "data": {
            "image/png": "[encoded data removed]",
            "text/plain": [
              "<Figure size 640x480 with 1 Axes>"
            ]
          },
          "metadata": {},
          "output_type": "display_data"
        }
      ],
      "source": [
        "importance = permutation_importance(search.best_estimator_, X_test, y_test.values.ravel(), n_repeats=10)\n",
        "\n",
        "for i,v in enumerate(importance['importances_mean']):\n",
        "\tprint('Feature: %s, Score: %.5f' % (X.columns[i],v))\n",
        " \n",
        "plt.barh(X.columns.to_numpy(), importance['importances_mean'])\n",
        "plt.show()"
      ]
    },
    {
      "cell_type": "markdown",
      "metadata": {},
      "source": [
        "**Conclusiones**\n",
        "\n",
        "En este último modelo también se logra un resultado similar al modelo de MLP, pero con un MAPE mucho mayor. De nuevo se puede observar que las 3 variables de mayor importancia son Post Month, Type y Page total likes."
      ]
    },
    {
      "cell_type": "markdown",
      "metadata": {
        "id": "IKW72uyk8Sbc"
      },
      "source": [
        "#**Ejercicio-12.**"
      ]
    },
    {
      "cell_type": "markdown",
      "metadata": {},
      "source": [
        "Al momento de correr estos modelos se pudo observar que los tres llegaron a conclusiones muy similares, donde las 3 variables que representan mayor importancia para el LPE son:\n",
        "\n",
        "* Post Month\n",
        "* Type\n",
        "* Page total Likes\n",
        "\n",
        "Lo anterior coincide con los hallazgos de los autores, aunque con magnitudes de importancia un tanto diferentes.\n",
        "\n",
        "Sin embargo, en comparación con lo obtenido por los autores para el MAPE, se observa que estos modelos están subentrenados puesto que ninguno estuvo cerca del mejor MAPE logrado por los autores, el cual fue de un 0.27 aproximadamente. Esto hace que las predicciones de nuestros modelos no sean lo suficientemente confiables, por tener MAPES con los datos de prueba muy altos.\n",
        "\n",
        "Una de las posibles razones de esta variación se deba a que los autores utilizaron otro modelo (SVM), además que su conjunto de datos contaba con alrededor de 800 registros, mientras el utilizado para este ejercicio fue de solo 500. Esto se debe a que varias de las entradas fueron eliminadas por confidencialidad, según se describía en la fuente de donde se obtuvieron los datos."
      ]
    },
    {
      "cell_type": "markdown",
      "metadata": {
        "id": "7ql_r2G-DB_m"
      },
      "source": [
        "###**Fin de la Actividad de la semana 7.**"
      ]
    }
  ],
  "metadata": {
    "accelerator": "GPU",
    "colab": {
      "collapsed_sections": [],
      "provenance": []
    },
    "gpuClass": "standard",
    "kernelspec": {
      "display_name": "Python 3.10.6 ('python310')",
      "language": "python",
      "name": "python3"
    },
    "language_info": {
      "codemirror_mode": {
        "name": "ipython",
        "version": 3
      },
      "file_extension": ".py",
      "mimetype": "text/x-python",
      "name": "python",
      "nbconvert_exporter": "python",
      "pygments_lexer": "ipython3",
      "version": "3.10.6"
    },
    "vscode": {
      "interpreter": {
        "hash": "63d64dcca26c8f38dc74dfb30b84aa8ff37e5fe5c37e0e01ae8e43a31d3267cd"
      }
    }
  },
  "nbformat": 4,
  "nbformat_minor": 0
}
