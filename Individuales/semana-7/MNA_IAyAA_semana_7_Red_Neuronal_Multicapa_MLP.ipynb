{
  "cells": [
    {
      "cell_type": "markdown",
      "metadata": {
        "id": "bIi4DwaujkWi"
      },
      "source": [
        "#**Maestría en Inteligencia Artificial Aplicada**\n",
        "##**Curso: Inteligencia Artificial y Aprendizaje Automático**\n",
        "###Tecnológico de Monterrey\n",
        "###Prof Luis Eduardo Falcón Morales\n",
        "\n",
        "### **Semana 7**\n",
        "####**Red Neuronal Artificial - Perceptrón Multicapa : Multilayer Perceptrón (MLP)**"
      ]
    },
    {
      "cell_type": "markdown",
      "metadata": {},
      "source": []
    },
    {
      "cell_type": "markdown",
      "metadata": {
        "id": "2784XXGnkA0W"
      },
      "source": [
        "#**Parte-1: Perceptrón Multicapa**"
      ]
    },
    {
      "cell_type": "markdown",
      "metadata": {
        "id": "A60ZtyI2kcIE"
      },
      "source": [
        "Recordemos que la red neuronal multicapa es válida para modelos de recresión y de clasificación. \n",
        "\n",
        "Puedes consultar la docuemntación correspondiente en cada caso:\n",
        "\n",
        "https://scikit-learn.org/stable/modules/generated/sklearn.neural_network.MLPRegressor.html#sklearn.neural_network.MLPRegressor.score\n",
        "\n",
        "https://scikit-learn.org/stable/modules/generated/sklearn.neural_network.MLPClassifier.html"
      ]
    },
    {
      "cell_type": "code",
      "execution_count": 2,
      "metadata": {
        "id": "ILQ4DjbcI8iM"
      },
      "outputs": [],
      "source": [
        "from sklearn.neural_network import MLPRegressor\n",
        "from sklearn.datasets import make_regression\n",
        "from sklearn.metrics import mean_squared_error, mean_absolute_percentage_error\n",
        "\n",
        "from sklearn.model_selection import train_test_split\n",
        "\n",
        "import matplotlib.pyplot as plt"
      ]
    },
    {
      "cell_type": "code",
      "execution_count": 3,
      "metadata": {
        "colab": {
          "base_uri": "https://localhost:8080/"
        },
        "id": "vIrc51W3_V29",
        "outputId": "59765710-a189-4d40-9310-34ecf725c78e"
      },
      "outputs": [
        {
          "name": "stdout",
          "output_type": "stream",
          "text": [
            "(10000, 10) (10000,)\n"
          ]
        }
      ],
      "source": [
        "# Generemos algunos datos aleatoriamente.\n",
        "# Nos regresa los datos de entrada X, los varlores reales de la variable de salida \n",
        "# y los valores reales de los coeficientes del modelo lineal generado.\n",
        "\n",
        "X, y, cc = make_regression(n_samples=10000,    # total de observaciones a generar\n",
        "                          n_features=10,      # número de factores a generar, tanto informativos, como redundantes\n",
        "                          n_informative=4,    # número de factores informativos o independientes a generar\n",
        "                          noise=0.5,          # desviación estándar del ruido gaussiano agregado a la variable de salida.\n",
        "                          coef=True,          # nos regresa los coeficientes reales del modelo subyacente generado.\n",
        "                          random_state=0      # semilla\n",
        "                          )\n",
        "\n",
        "\n",
        "print(X.shape, y.shape)"
      ]
    },
    {
      "cell_type": "code",
      "execution_count": 4,
      "metadata": {
        "colab": {
          "base_uri": "https://localhost:8080/"
        },
        "id": "zuDdbPiUMqVi",
        "outputId": "c9efe4c8-1c49-4c72-d2e3-7453c60fae3d"
      },
      "outputs": [
        {
          "data": {
            "text/plain": [
              "array([ 0.        , 39.0479674 ,  0.        ,  0.        ,  0.        ,\n",
              "       91.1615477 , 85.97273915, 79.15856985,  0.        ,  0.        ])"
            ]
          },
          "execution_count": 4,
          "metadata": {},
          "output_type": "execute_result"
        }
      ],
      "source": [
        "# Coeficientes reales:\n",
        "cc"
      ]
    },
    {
      "cell_type": "markdown",
      "metadata": {
        "id": "GDIM6UpWf3ul"
      },
      "source": [
        "Es decir, en este caso la importancia de los factores estarán asociados a las columnas de estos factores no cero. \n",
        "\n",
        "Y en cuanto mayor la magnitud del coeficiente, mayor su importancia, aunque esto puede variar, ya que dependerá del modelo de la partición ralizada del conjunto de datos."
      ]
    },
    {
      "cell_type": "code",
      "execution_count": 5,
      "metadata": {
        "colab": {
          "base_uri": "https://localhost:8080/"
        },
        "id": "asAf6-tMHha-",
        "outputId": "dce1a23b-f4c1-4553-8f99-112f0dc1f59e"
      },
      "outputs": [
        {
          "name": "stdout",
          "output_type": "stream",
          "text": [
            "(8000, 10) (2000, 10) (2000, 10) (8000,) (2000,) (2000,)\n"
          ]
        }
      ],
      "source": [
        "Xtv, X_test, ytv, y_test = train_test_split(X, y, train_size=0.8)\n",
        "X_train, X_val, y_train, y_val = train_test_split(X, y, train_size=0.8)\n",
        "\n",
        "print(X_train.shape, X_val.shape, X_test.shape, y_train.shape, y_val.shape, y_test.shape)"
      ]
    },
    {
      "cell_type": "markdown",
      "metadata": {
        "id": "j2MrXSK3PJT-"
      },
      "source": [
        "Para la documentación de métricas:\n",
        "\n",
        "https://scikit-learn.org/stable/modules/model_evaluation.html\n"
      ]
    },
    {
      "cell_type": "code",
      "execution_count": 6,
      "metadata": {
        "id": "1KGGtIWuIc9q"
      },
      "outputs": [
        {
          "ename": "TypeError",
          "evalue": "__init__() got an unexpected keyword argument 'n_jobs'",
          "output_type": "error",
          "traceback": [
            "\u001b[0;31m---------------------------------------------------------------------------\u001b[0m",
            "\u001b[0;31mTypeError\u001b[0m                                 Traceback (most recent call last)",
            "\u001b[0;32m/var/folders/gv/t0xf0frn51g8g_xd29ccdwzc0000gn/T/ipykernel_80394/964704435.py\u001b[0m in \u001b[0;36m<module>\u001b[0;34m\u001b[0m\n\u001b[1;32m     15\u001b[0m   \u001b[0mii\u001b[0m \u001b[0;34m=\u001b[0m \u001b[0mround\u001b[0m\u001b[0;34m(\u001b[0m\u001b[0;34m(\u001b[0m\u001b[0mi\u001b[0m\u001b[0;34m+\u001b[0m\u001b[0;36m1\u001b[0m\u001b[0;34m)\u001b[0m\u001b[0;34m/\u001b[0m\u001b[0;36m2.\u001b[0m\u001b[0;34m)\u001b[0m\u001b[0;34m\u001b[0m\u001b[0;34m\u001b[0m\u001b[0m\n\u001b[1;32m     16\u001b[0m   \u001b[0;31m#modelo_MLP = MLPRegressor(hidden_layer_sizes=(i,),\u001b[0m\u001b[0;34m\u001b[0m\u001b[0;34m\u001b[0m\u001b[0m\n\u001b[0;32m---> 17\u001b[0;31m   modelo_MLP = MLPRegressor(hidden_layer_sizes=(i, i),     # número de capas ocultas y nodos en cada capa.\n\u001b[0m\u001b[1;32m     18\u001b[0m                             \u001b[0mmax_iter\u001b[0m\u001b[0;34m=\u001b[0m\u001b[0;36m20000\u001b[0m\u001b[0;34m,\u001b[0m                \u001b[0;31m# máximo número de iteraciones para el proceso de convergencia.\u001b[0m\u001b[0;34m\u001b[0m\u001b[0;34m\u001b[0m\u001b[0m\n\u001b[1;32m     19\u001b[0m                             \u001b[0malpha\u001b[0m\u001b[0;34m=\u001b[0m\u001b[0;36m0.0001\u001b[0m\u001b[0;34m,\u001b[0m                  \u001b[0;31m# constante asociado al término de regularización L2.\u001b[0m\u001b[0;34m\u001b[0m\u001b[0;34m\u001b[0m\u001b[0m\n",
            "\u001b[0;32m~/opt/anaconda3/lib/python3.9/site-packages/sklearn/utils/validation.py\u001b[0m in \u001b[0;36minner_f\u001b[0;34m(*args, **kwargs)\u001b[0m\n\u001b[1;32m     61\u001b[0m             \u001b[0mextra_args\u001b[0m \u001b[0;34m=\u001b[0m \u001b[0mlen\u001b[0m\u001b[0;34m(\u001b[0m\u001b[0margs\u001b[0m\u001b[0;34m)\u001b[0m \u001b[0;34m-\u001b[0m \u001b[0mlen\u001b[0m\u001b[0;34m(\u001b[0m\u001b[0mall_args\u001b[0m\u001b[0;34m)\u001b[0m\u001b[0;34m\u001b[0m\u001b[0;34m\u001b[0m\u001b[0m\n\u001b[1;32m     62\u001b[0m             \u001b[0;32mif\u001b[0m \u001b[0mextra_args\u001b[0m \u001b[0;34m<=\u001b[0m \u001b[0;36m0\u001b[0m\u001b[0;34m:\u001b[0m\u001b[0;34m\u001b[0m\u001b[0;34m\u001b[0m\u001b[0m\n\u001b[0;32m---> 63\u001b[0;31m                 \u001b[0;32mreturn\u001b[0m \u001b[0mf\u001b[0m\u001b[0;34m(\u001b[0m\u001b[0;34m*\u001b[0m\u001b[0margs\u001b[0m\u001b[0;34m,\u001b[0m \u001b[0;34m**\u001b[0m\u001b[0mkwargs\u001b[0m\u001b[0;34m)\u001b[0m\u001b[0;34m\u001b[0m\u001b[0;34m\u001b[0m\u001b[0m\n\u001b[0m\u001b[1;32m     64\u001b[0m \u001b[0;34m\u001b[0m\u001b[0m\n\u001b[1;32m     65\u001b[0m             \u001b[0;31m# extra_args > 0\u001b[0m\u001b[0;34m\u001b[0m\u001b[0;34m\u001b[0m\u001b[0m\n",
            "\u001b[0;31mTypeError\u001b[0m: __init__() got an unexpected keyword argument 'n_jobs'"
          ]
        }
      ],
      "source": [
        "# Generemos l\n",
        "values = [i for i in range(5, 20, 2)]\n",
        "\n",
        "# Generemos nuestras propia lista de resultados para nuestras propias curvas de aprendizaje:\n",
        "train_mapes, val_mapes = list(), list()\n",
        "train_mses, val_mses = list(), list()            \n",
        "\n",
        "\n",
        "for i in values:\n",
        "\n",
        "  # Veamos cómo se comporta la MLP con el número de \n",
        "  # neuronas en una o varias capas ocultas....\n",
        "   \n",
        "\n",
        "  ii = round((i+1)/2.)\n",
        "  #modelo_MLP = MLPRegressor(hidden_layer_sizes=(i,), \n",
        "  modelo_MLP = MLPRegressor(hidden_layer_sizes=(i, i),     # número de capas ocultas y nodos en cada capa.\n",
        "                            max_iter=20000,                # máximo número de iteraciones para el proceso de convergencia.\n",
        "                            alpha=0.0001,                  # constante asociado al término de regularización L2.\n",
        "                            solver='adam',                 # técnica de optimización.\n",
        "                            learning_rate_init=0.001,       # valor inicial del tamaño de paso con relación a \"adam\" o \"sgd\".\n",
        "                            )  \n",
        "\n",
        "  modelo_MLP.fit(X_train, y_train)\n",
        "\n",
        "  # MSE-rrores del Train:\n",
        "  train_yhat = modelo_MLP.predict(X_train)\n",
        "  train_mse = mean_squared_error(y_train, train_yhat)          \n",
        "  train_mses.append(train_mse)  \n",
        "\n",
        "  # MSE-errores del Validation:\n",
        "  val_yhat = modelo_MLP.predict(X_val)\n",
        "  val_mse = mean_squared_error(y_val, val_yhat)          \n",
        "  val_mses.append(val_mse)  \n",
        "\n",
        "   # ####################\n",
        "\n",
        "  # MAPE-errores del Train:\n",
        "  train_yhat = modelo_MLP.predict(X_train)\n",
        "  train_mape = mean_absolute_percentage_error(y_train, train_yhat)          \n",
        "  train_mapes.append(train_mape)  \n",
        "\n",
        "  # MPE-errores del Validation:\n",
        "  val_yhat = modelo_MLP.predict(X_val)\n",
        "  val_mape = mean_absolute_percentage_error(y_val, val_yhat)          \n",
        "  val_mapes.append(val_mape) \n"
      ]
    },
    {
      "cell_type": "code",
      "execution_count": null,
      "metadata": {
        "colab": {
          "base_uri": "https://localhost:8080/",
          "height": 265
        },
        "id": "qOByDMDHfWaR",
        "outputId": "2f1da551-e59a-404e-d6a2-ef599e3d7791"
      },
      "outputs": [
        {
          "data": {
            "image/png": "[encoded data removed]",
            "text/plain": [
              "<Figure size 432x288 with 1 Axes>"
            ]
          },
          "metadata": {
            "needs_background": "light"
          },
          "output_type": "display_data"
        }
      ],
      "source": [
        "# Errores de train y validaton MSE \n",
        "plt.plot(values, train_mses, '-o', label='Train')\n",
        "plt.plot(values, val_mses, '-o', label='Validation')\n",
        "plt.legend()\n",
        "plt.show()"
      ]
    },
    {
      "cell_type": "code",
      "execution_count": null,
      "metadata": {
        "colab": {
          "base_uri": "https://localhost:8080/",
          "height": 265
        },
        "id": "wIHdSqvgUwNI",
        "outputId": "4a7c3909-51ad-45e7-8ebb-f2beb7fd8296"
      },
      "outputs": [
        {
          "data": {
            "image/png": "[encoded data removed]",
            "text/plain": [
              "<Figure size 432x288 with 1 Axes>"
            ]
          },
          "metadata": {
            "needs_background": "light"
          },
          "output_type": "display_data"
        }
      ],
      "source": [
        "# Errores de train y validaton MAPE \n",
        "plt.plot(values, train_mapes, '-o', label='Train')\n",
        "plt.plot(values, val_mapes, '-o', label='Validation')\n",
        "plt.legend()\n",
        "plt.show()"
      ]
    },
    {
      "cell_type": "markdown",
      "metadata": {
        "id": "aKHx3j-llQsa"
      },
      "source": [
        "Cada tipo de error nos dice la cantidad de neurones a utilizar en cada capa."
      ]
    },
    {
      "cell_type": "markdown",
      "metadata": {
        "id": "E4UIOb1YVCEd"
      },
      "source": [
        "#**Importancia de Factores (Feature Importance)**"
      ]
    },
    {
      "cell_type": "markdown",
      "metadata": {
        "id": "VUHDkNwfVQad"
      },
      "source": [
        "https://scikit-learn.org/stable/modules/permutation_importance.html"
      ]
    },
    {
      "cell_type": "code",
      "execution_count": null,
      "metadata": {
        "id": "-lSik72nVcgm"
      },
      "outputs": [],
      "source": [
        "from sklearn.inspection import permutation_importance"
      ]
    },
    {
      "cell_type": "code",
      "execution_count": null,
      "metadata": {
        "colab": {
          "base_uri": "https://localhost:8080/",
          "height": 439
        },
        "id": "p5-UGfR_XIL4",
        "outputId": "dd2b4e5a-b530-471b-ffda-4a92320300c7"
      },
      "outputs": [
        {
          "name": "stdout",
          "output_type": "stream",
          "text": [
            "Feature: 0, Score: 0.00000\n",
            "Feature: 1, Score: 0.12703\n",
            "Feature: 2, Score: 0.00000\n",
            "Feature: 3, Score: 0.00000\n",
            "Feature: 4, Score: 0.00000\n",
            "Feature: 5, Score: 0.69864\n",
            "Feature: 6, Score: 0.61659\n",
            "Feature: 7, Score: 0.51939\n",
            "Feature: 8, Score: 0.00000\n",
            "Feature: 9, Score: 0.00000\n"
          ]
        },
        {
          "data": {
            "image/png": "[encoded data removed]",
            "text/plain": [
              "<Figure size 432x288 with 1 Axes>"
            ]
          },
          "metadata": {
            "needs_background": "light"
          },
          "output_type": "display_data"
        }
      ],
      "source": [
        "# Una vez inicializado y entrenada la MLP, veamos qué factores considera más importantes:\n",
        "\n",
        "modelo_MLP = MLPRegressor(hidden_layer_sizes=(11,11), \n",
        "                            max_iter=20000, \n",
        "                            alpha=0.0001,\n",
        "                            learning_rate_init=0.001)  \n",
        "\n",
        "modelo_MLP.fit(X_train, y_train)\n",
        "\n",
        "importance = permutation_importance(modelo_MLP, X_train, y_train, n_repeats=10)\n",
        "\n",
        "# visualicemos la importancia de cada métrica, de las cuales sabemos\n",
        "# cuáles son las más importantes, de acuerdo a como se definieron al inicio:\n",
        "\n",
        "for i,v in enumerate(importance['importances_mean']):\n",
        "\tprint('Feature: %0d, Score: %.5f' % (i,v))\n",
        " \n",
        "plt.bar([x for x in range(len(importance['importances_mean']))], importance['importances_mean'])\n",
        "plt.show()"
      ]
    },
    {
      "cell_type": "markdown",
      "metadata": {
        "id": "tBUxQU4-iCVE"
      },
      "source": [
        "###**Fin de los ejemplos de la semana 7**"
      ]
    }
  ],
  "metadata": {
    "colab": {
      "collapsed_sections": [],
      "provenance": []
    },
    "kernelspec": {
      "display_name": "Python 3.9.7 ('base')",
      "language": "python",
      "name": "python3"
    },
    "language_info": {
      "codemirror_mode": {
        "name": "ipython",
        "version": 3
      },
      "file_extension": ".py",
      "mimetype": "text/x-python",
      "name": "python",
      "nbconvert_exporter": "python",
      "pygments_lexer": "ipython3",
      "version": "3.9.7"
    },
    "vscode": {
      "interpreter": {
        "hash": "a45cc4a1e8f4356b8744a09c08687f3a5162f6e6540e2de8bac6b2366a25a49e"
      }
    }
  },
  "nbformat": 4,
  "nbformat_minor": 0
}
